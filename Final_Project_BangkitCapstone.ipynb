{
  "nbformat": 4,
  "nbformat_minor": 0,
  "metadata": {
    "colab": {
      "provenance": [],
      "gpuType": "T4"
    },
    "kernelspec": {
      "name": "python3",
      "display_name": "Python 3"
    },
    "language_info": {
      "name": "python"
    },
    "accelerator": "GPU"
  },
  "cells": [
    {
      "cell_type": "markdown",
      "source": [
        "#Instal lalu restart session"
      ],
      "metadata": {
        "id": "AmMASLEjx8N7"
      }
    },
    {
      "cell_type": "code",
      "source": [
        "!pip install tensorflowjs\n",
        "!pip install TensorFlow==2.15.0\n",
        "!pip install tensorflow-decision-forests==1.8.1"
      ],
      "metadata": {
        "id": "nCBxHJeEvumy",
        "colab": {
          "base_uri": "https://localhost:8080/"
        },
        "outputId": "11610ab9-6d33-4b15-8fff-58a279bdce3b"
      },
      "execution_count": null,
      "outputs": [
        {
          "output_type": "stream",
          "name": "stdout",
          "text": [
            "Collecting tensorflowjs\n",
            "  Downloading tensorflowjs-4.22.0-py3-none-any.whl.metadata (3.2 kB)\n",
            "Requirement already satisfied: flax>=0.7.2 in /usr/local/lib/python3.10/dist-packages (from tensorflowjs) (0.8.5)\n",
            "Requirement already satisfied: importlib_resources>=5.9.0 in /usr/local/lib/python3.10/dist-packages (from tensorflowjs) (6.4.5)\n",
            "Requirement already satisfied: jax>=0.4.13 in /usr/local/lib/python3.10/dist-packages (from tensorflowjs) (0.4.33)\n",
            "Requirement already satisfied: jaxlib>=0.4.13 in /usr/local/lib/python3.10/dist-packages (from tensorflowjs) (0.4.33)\n",
            "Requirement already satisfied: tensorflow<3,>=2.13.0 in /usr/local/lib/python3.10/dist-packages (from tensorflowjs) (2.17.1)\n",
            "Requirement already satisfied: tf-keras>=2.13.0 in /usr/local/lib/python3.10/dist-packages (from tensorflowjs) (2.17.0)\n",
            "Collecting tensorflow-decision-forests>=1.5.0 (from tensorflowjs)\n",
            "  Downloading tensorflow_decision_forests-1.11.0-cp310-cp310-manylinux_2_17_x86_64.manylinux2014_x86_64.whl.metadata (6.0 kB)\n",
            "Requirement already satisfied: six<2,>=1.16.0 in /usr/local/lib/python3.10/dist-packages (from tensorflowjs) (1.16.0)\n",
            "Requirement already satisfied: tensorflow-hub>=0.16.1 in /usr/local/lib/python3.10/dist-packages (from tensorflowjs) (0.16.1)\n",
            "Collecting packaging~=23.1 (from tensorflowjs)\n",
            "  Downloading packaging-23.2-py3-none-any.whl.metadata (3.2 kB)\n",
            "Requirement already satisfied: numpy>=1.22 in /usr/local/lib/python3.10/dist-packages (from flax>=0.7.2->tensorflowjs) (1.26.4)\n",
            "Requirement already satisfied: msgpack in /usr/local/lib/python3.10/dist-packages (from flax>=0.7.2->tensorflowjs) (1.1.0)\n",
            "Requirement already satisfied: optax in /usr/local/lib/python3.10/dist-packages (from flax>=0.7.2->tensorflowjs) (0.2.4)\n",
            "Requirement already satisfied: orbax-checkpoint in /usr/local/lib/python3.10/dist-packages (from flax>=0.7.2->tensorflowjs) (0.6.4)\n",
            "Requirement already satisfied: tensorstore in /usr/local/lib/python3.10/dist-packages (from flax>=0.7.2->tensorflowjs) (0.1.69)\n",
            "Requirement already satisfied: rich>=11.1 in /usr/local/lib/python3.10/dist-packages (from flax>=0.7.2->tensorflowjs) (13.9.4)\n",
            "Requirement already satisfied: typing-extensions>=4.2 in /usr/local/lib/python3.10/dist-packages (from flax>=0.7.2->tensorflowjs) (4.12.2)\n",
            "Requirement already satisfied: PyYAML>=5.4.1 in /usr/local/lib/python3.10/dist-packages (from flax>=0.7.2->tensorflowjs) (6.0.2)\n",
            "Requirement already satisfied: ml-dtypes>=0.2.0 in /usr/local/lib/python3.10/dist-packages (from jax>=0.4.13->tensorflowjs) (0.4.1)\n",
            "Requirement already satisfied: opt-einsum in /usr/local/lib/python3.10/dist-packages (from jax>=0.4.13->tensorflowjs) (3.4.0)\n",
            "Requirement already satisfied: scipy>=1.10 in /usr/local/lib/python3.10/dist-packages (from jax>=0.4.13->tensorflowjs) (1.13.1)\n",
            "Requirement already satisfied: absl-py>=1.0.0 in /usr/local/lib/python3.10/dist-packages (from tensorflow<3,>=2.13.0->tensorflowjs) (1.4.0)\n",
            "Requirement already satisfied: astunparse>=1.6.0 in /usr/local/lib/python3.10/dist-packages (from tensorflow<3,>=2.13.0->tensorflowjs) (1.6.3)\n",
            "Requirement already satisfied: flatbuffers>=24.3.25 in /usr/local/lib/python3.10/dist-packages (from tensorflow<3,>=2.13.0->tensorflowjs) (24.3.25)\n",
            "Requirement already satisfied: gast!=0.5.0,!=0.5.1,!=0.5.2,>=0.2.1 in /usr/local/lib/python3.10/dist-packages (from tensorflow<3,>=2.13.0->tensorflowjs) (0.6.0)\n",
            "Requirement already satisfied: google-pasta>=0.1.1 in /usr/local/lib/python3.10/dist-packages (from tensorflow<3,>=2.13.0->tensorflowjs) (0.2.0)\n",
            "Requirement already satisfied: h5py>=3.10.0 in /usr/local/lib/python3.10/dist-packages (from tensorflow<3,>=2.13.0->tensorflowjs) (3.12.1)\n",
            "Requirement already satisfied: libclang>=13.0.0 in /usr/local/lib/python3.10/dist-packages (from tensorflow<3,>=2.13.0->tensorflowjs) (18.1.1)\n",
            "Requirement already satisfied: protobuf!=4.21.0,!=4.21.1,!=4.21.2,!=4.21.3,!=4.21.4,!=4.21.5,<5.0.0dev,>=3.20.3 in /usr/local/lib/python3.10/dist-packages (from tensorflow<3,>=2.13.0->tensorflowjs) (4.25.5)\n",
            "Requirement already satisfied: requests<3,>=2.21.0 in /usr/local/lib/python3.10/dist-packages (from tensorflow<3,>=2.13.0->tensorflowjs) (2.32.3)\n",
            "Requirement already satisfied: setuptools in /usr/local/lib/python3.10/dist-packages (from tensorflow<3,>=2.13.0->tensorflowjs) (75.1.0)\n",
            "Requirement already satisfied: termcolor>=1.1.0 in /usr/local/lib/python3.10/dist-packages (from tensorflow<3,>=2.13.0->tensorflowjs) (2.5.0)\n",
            "Requirement already satisfied: wrapt>=1.11.0 in /usr/local/lib/python3.10/dist-packages (from tensorflow<3,>=2.13.0->tensorflowjs) (1.17.0)\n",
            "Requirement already satisfied: grpcio<2.0,>=1.24.3 in /usr/local/lib/python3.10/dist-packages (from tensorflow<3,>=2.13.0->tensorflowjs) (1.68.1)\n",
            "Requirement already satisfied: tensorboard<2.18,>=2.17 in /usr/local/lib/python3.10/dist-packages (from tensorflow<3,>=2.13.0->tensorflowjs) (2.17.1)\n",
            "Requirement already satisfied: keras>=3.2.0 in /usr/local/lib/python3.10/dist-packages (from tensorflow<3,>=2.13.0->tensorflowjs) (3.5.0)\n",
            "Requirement already satisfied: tensorflow-io-gcs-filesystem>=0.23.1 in /usr/local/lib/python3.10/dist-packages (from tensorflow<3,>=2.13.0->tensorflowjs) (0.37.1)\n",
            "Requirement already satisfied: pandas in /usr/local/lib/python3.10/dist-packages (from tensorflow-decision-forests>=1.5.0->tensorflowjs) (2.2.2)\n",
            "Collecting tensorflow<3,>=2.13.0 (from tensorflowjs)\n",
            "  Downloading tensorflow-2.18.0-cp310-cp310-manylinux_2_17_x86_64.manylinux2014_x86_64.whl.metadata (4.1 kB)\n",
            "Requirement already satisfied: wheel in /usr/local/lib/python3.10/dist-packages (from tensorflow-decision-forests>=1.5.0->tensorflowjs) (0.45.1)\n",
            "Collecting wurlitzer (from tensorflow-decision-forests>=1.5.0->tensorflowjs)\n",
            "  Downloading wurlitzer-3.1.1-py3-none-any.whl.metadata (2.5 kB)\n",
            "Collecting ydf (from tensorflow-decision-forests>=1.5.0->tensorflowjs)\n",
            "  Downloading ydf-0.9.0-cp310-cp310-manylinux_2_17_x86_64.manylinux2014_x86_64.whl.metadata (3.2 kB)\n",
            "Collecting tensorboard<2.19,>=2.18 (from tensorflow<3,>=2.13.0->tensorflowjs)\n",
            "  Downloading tensorboard-2.18.0-py3-none-any.whl.metadata (1.6 kB)\n",
            "INFO: pip is looking at multiple versions of tf-keras to determine which version is compatible with other requirements. This could take a while.\n",
            "Collecting tf-keras>=2.13.0 (from tensorflowjs)\n",
            "  Downloading tf_keras-2.18.0-py3-none-any.whl.metadata (1.6 kB)\n",
            "Requirement already satisfied: namex in /usr/local/lib/python3.10/dist-packages (from keras>=3.2.0->tensorflow<3,>=2.13.0->tensorflowjs) (0.0.8)\n",
            "Requirement already satisfied: optree in /usr/local/lib/python3.10/dist-packages (from keras>=3.2.0->tensorflow<3,>=2.13.0->tensorflowjs) (0.13.1)\n",
            "Requirement already satisfied: charset-normalizer<4,>=2 in /usr/local/lib/python3.10/dist-packages (from requests<3,>=2.21.0->tensorflow<3,>=2.13.0->tensorflowjs) (3.4.0)\n",
            "Requirement already satisfied: idna<4,>=2.5 in /usr/local/lib/python3.10/dist-packages (from requests<3,>=2.21.0->tensorflow<3,>=2.13.0->tensorflowjs) (3.10)\n",
            "Requirement already satisfied: urllib3<3,>=1.21.1 in /usr/local/lib/python3.10/dist-packages (from requests<3,>=2.21.0->tensorflow<3,>=2.13.0->tensorflowjs) (2.2.3)\n",
            "Requirement already satisfied: certifi>=2017.4.17 in /usr/local/lib/python3.10/dist-packages (from requests<3,>=2.21.0->tensorflow<3,>=2.13.0->tensorflowjs) (2024.8.30)\n",
            "Requirement already satisfied: markdown-it-py>=2.2.0 in /usr/local/lib/python3.10/dist-packages (from rich>=11.1->flax>=0.7.2->tensorflowjs) (3.0.0)\n",
            "Requirement already satisfied: pygments<3.0.0,>=2.13.0 in /usr/local/lib/python3.10/dist-packages (from rich>=11.1->flax>=0.7.2->tensorflowjs) (2.18.0)\n",
            "Requirement already satisfied: markdown>=2.6.8 in /usr/local/lib/python3.10/dist-packages (from tensorboard<2.19,>=2.18->tensorflow<3,>=2.13.0->tensorflowjs) (3.7)\n",
            "Requirement already satisfied: tensorboard-data-server<0.8.0,>=0.7.0 in /usr/local/lib/python3.10/dist-packages (from tensorboard<2.19,>=2.18->tensorflow<3,>=2.13.0->tensorflowjs) (0.7.2)\n",
            "Requirement already satisfied: werkzeug>=1.0.1 in /usr/local/lib/python3.10/dist-packages (from tensorboard<2.19,>=2.18->tensorflow<3,>=2.13.0->tensorflowjs) (3.1.3)\n",
            "Requirement already satisfied: chex>=0.1.87 in /usr/local/lib/python3.10/dist-packages (from optax->flax>=0.7.2->tensorflowjs) (0.1.87)\n",
            "Requirement already satisfied: etils[epy] in /usr/local/lib/python3.10/dist-packages (from optax->flax>=0.7.2->tensorflowjs) (1.11.0)\n",
            "Requirement already satisfied: nest_asyncio in /usr/local/lib/python3.10/dist-packages (from orbax-checkpoint->flax>=0.7.2->tensorflowjs) (1.6.0)\n",
            "Requirement already satisfied: humanize in /usr/local/lib/python3.10/dist-packages (from orbax-checkpoint->flax>=0.7.2->tensorflowjs) (4.11.0)\n",
            "Requirement already satisfied: python-dateutil>=2.8.2 in /usr/local/lib/python3.10/dist-packages (from pandas->tensorflow-decision-forests>=1.5.0->tensorflowjs) (2.8.2)\n",
            "Requirement already satisfied: pytz>=2020.1 in /usr/local/lib/python3.10/dist-packages (from pandas->tensorflow-decision-forests>=1.5.0->tensorflowjs) (2024.2)\n",
            "Requirement already satisfied: tzdata>=2022.7 in /usr/local/lib/python3.10/dist-packages (from pandas->tensorflow-decision-forests>=1.5.0->tensorflowjs) (2024.2)\n",
            "Requirement already satisfied: toolz>=0.9.0 in /usr/local/lib/python3.10/dist-packages (from chex>=0.1.87->optax->flax>=0.7.2->tensorflowjs) (0.12.1)\n",
            "Requirement already satisfied: mdurl~=0.1 in /usr/local/lib/python3.10/dist-packages (from markdown-it-py>=2.2.0->rich>=11.1->flax>=0.7.2->tensorflowjs) (0.1.2)\n",
            "Requirement already satisfied: MarkupSafe>=2.1.1 in /usr/local/lib/python3.10/dist-packages (from werkzeug>=1.0.1->tensorboard<2.19,>=2.18->tensorflow<3,>=2.13.0->tensorflowjs) (3.0.2)\n",
            "Requirement already satisfied: fsspec in /usr/local/lib/python3.10/dist-packages (from etils[epath,epy]->orbax-checkpoint->flax>=0.7.2->tensorflowjs) (2024.10.0)\n",
            "Requirement already satisfied: zipp in /usr/local/lib/python3.10/dist-packages (from etils[epath,epy]->orbax-checkpoint->flax>=0.7.2->tensorflowjs) (3.21.0)\n",
            "Downloading tensorflowjs-4.22.0-py3-none-any.whl (89 kB)\n",
            "\u001b[2K   \u001b[90m━━━━━━━━━━━━━━━━━━━━━━━━━━━━━━━━━━━━━━━━\u001b[0m \u001b[32m89.1/89.1 kB\u001b[0m \u001b[31m4.7 MB/s\u001b[0m eta \u001b[36m0:00:00\u001b[0m\n",
            "\u001b[?25hDownloading packaging-23.2-py3-none-any.whl (53 kB)\n",
            "\u001b[2K   \u001b[90m━━━━━━━━━━━━━━━━━━━━━━━━━━━━━━━━━━━━━━━━\u001b[0m \u001b[32m53.0/53.0 kB\u001b[0m \u001b[31m1.8 MB/s\u001b[0m eta \u001b[36m0:00:00\u001b[0m\n",
            "\u001b[?25hDownloading tensorflow_decision_forests-1.11.0-cp310-cp310-manylinux_2_17_x86_64.manylinux2014_x86_64.whl (15.9 MB)\n",
            "\u001b[2K   \u001b[90m━━━━━━━━━━━━━━━━━━━━━━━━━━━━━━━━━━━━━━━━\u001b[0m \u001b[32m15.9/15.9 MB\u001b[0m \u001b[31m18.2 MB/s\u001b[0m eta \u001b[36m0:00:00\u001b[0m\n",
            "\u001b[?25hDownloading tensorflow-2.18.0-cp310-cp310-manylinux_2_17_x86_64.manylinux2014_x86_64.whl (615.3 MB)\n",
            "\u001b[2K   \u001b[90m━━━━━━━━━━━━━━━━━━━━━━━━━━━━━━━━━━━━━━━━\u001b[0m \u001b[32m615.3/615.3 MB\u001b[0m \u001b[31m2.1 MB/s\u001b[0m eta \u001b[36m0:00:00\u001b[0m\n",
            "\u001b[?25hDownloading tf_keras-2.18.0-py3-none-any.whl (1.7 MB)\n",
            "\u001b[2K   \u001b[90m━━━━━━━━━━━━━━━━━━━━━━━━━━━━━━━━━━━━━━━━\u001b[0m \u001b[32m1.7/1.7 MB\u001b[0m \u001b[31m54.0 MB/s\u001b[0m eta \u001b[36m0:00:00\u001b[0m\n",
            "\u001b[?25hDownloading tensorboard-2.18.0-py3-none-any.whl (5.5 MB)\n",
            "\u001b[2K   \u001b[90m━━━━━━━━━━━━━━━━━━━━━━━━━━━━━━━━━━━━━━━━\u001b[0m \u001b[32m5.5/5.5 MB\u001b[0m \u001b[31m72.0 MB/s\u001b[0m eta \u001b[36m0:00:00\u001b[0m\n",
            "\u001b[?25hDownloading wurlitzer-3.1.1-py3-none-any.whl (8.6 kB)\n",
            "Downloading ydf-0.9.0-cp310-cp310-manylinux_2_17_x86_64.manylinux2014_x86_64.whl (9.5 MB)\n",
            "\u001b[2K   \u001b[90m━━━━━━━━━━━━━━━━━━━━━━━━━━━━━━━━━━━━━━━━\u001b[0m \u001b[32m9.5/9.5 MB\u001b[0m \u001b[31m76.8 MB/s\u001b[0m eta \u001b[36m0:00:00\u001b[0m\n",
            "\u001b[?25hInstalling collected packages: ydf, wurlitzer, packaging, tensorboard, tensorflow, tf-keras, tensorflow-decision-forests, tensorflowjs\n",
            "  Attempting uninstall: packaging\n",
            "    Found existing installation: packaging 24.2\n",
            "    Uninstalling packaging-24.2:\n",
            "      Successfully uninstalled packaging-24.2\n",
            "  Attempting uninstall: tensorboard\n",
            "    Found existing installation: tensorboard 2.17.1\n",
            "    Uninstalling tensorboard-2.17.1:\n",
            "      Successfully uninstalled tensorboard-2.17.1\n",
            "  Attempting uninstall: tensorflow\n",
            "    Found existing installation: tensorflow 2.17.1\n",
            "    Uninstalling tensorflow-2.17.1:\n",
            "      Successfully uninstalled tensorflow-2.17.1\n",
            "  Attempting uninstall: tf-keras\n",
            "    Found existing installation: tf_keras 2.17.0\n",
            "    Uninstalling tf_keras-2.17.0:\n",
            "      Successfully uninstalled tf_keras-2.17.0\n",
            "Successfully installed packaging-23.2 tensorboard-2.18.0 tensorflow-2.18.0 tensorflow-decision-forests-1.11.0 tensorflowjs-4.22.0 tf-keras-2.18.0 wurlitzer-3.1.1 ydf-0.9.0\n",
            "Collecting TensorFlow==2.15.0\n",
            "  Downloading tensorflow-2.15.0-cp310-cp310-manylinux_2_17_x86_64.manylinux2014_x86_64.whl.metadata (4.4 kB)\n",
            "Requirement already satisfied: absl-py>=1.0.0 in /usr/local/lib/python3.10/dist-packages (from TensorFlow==2.15.0) (1.4.0)\n",
            "Requirement already satisfied: astunparse>=1.6.0 in /usr/local/lib/python3.10/dist-packages (from TensorFlow==2.15.0) (1.6.3)\n",
            "Requirement already satisfied: flatbuffers>=23.5.26 in /usr/local/lib/python3.10/dist-packages (from TensorFlow==2.15.0) (24.3.25)\n",
            "Requirement already satisfied: gast!=0.5.0,!=0.5.1,!=0.5.2,>=0.2.1 in /usr/local/lib/python3.10/dist-packages (from TensorFlow==2.15.0) (0.6.0)\n",
            "Requirement already satisfied: google-pasta>=0.1.1 in /usr/local/lib/python3.10/dist-packages (from TensorFlow==2.15.0) (0.2.0)\n",
            "Requirement already satisfied: h5py>=2.9.0 in /usr/local/lib/python3.10/dist-packages (from TensorFlow==2.15.0) (3.12.1)\n",
            "Requirement already satisfied: libclang>=13.0.0 in /usr/local/lib/python3.10/dist-packages (from TensorFlow==2.15.0) (18.1.1)\n",
            "Collecting ml-dtypes~=0.2.0 (from TensorFlow==2.15.0)\n",
            "  Downloading ml_dtypes-0.2.0-cp310-cp310-manylinux_2_17_x86_64.manylinux2014_x86_64.whl.metadata (20 kB)\n",
            "Requirement already satisfied: numpy<2.0.0,>=1.23.5 in /usr/local/lib/python3.10/dist-packages (from TensorFlow==2.15.0) (1.26.4)\n",
            "Requirement already satisfied: opt-einsum>=2.3.2 in /usr/local/lib/python3.10/dist-packages (from TensorFlow==2.15.0) (3.4.0)\n",
            "Requirement already satisfied: packaging in /usr/local/lib/python3.10/dist-packages (from TensorFlow==2.15.0) (23.2)\n",
            "Requirement already satisfied: protobuf!=4.21.0,!=4.21.1,!=4.21.2,!=4.21.3,!=4.21.4,!=4.21.5,<5.0.0dev,>=3.20.3 in /usr/local/lib/python3.10/dist-packages (from TensorFlow==2.15.0) (4.25.5)\n",
            "Requirement already satisfied: setuptools in /usr/local/lib/python3.10/dist-packages (from TensorFlow==2.15.0) (75.1.0)\n",
            "Requirement already satisfied: six>=1.12.0 in /usr/local/lib/python3.10/dist-packages (from TensorFlow==2.15.0) (1.16.0)\n",
            "Requirement already satisfied: termcolor>=1.1.0 in /usr/local/lib/python3.10/dist-packages (from TensorFlow==2.15.0) (2.5.0)\n",
            "Requirement already satisfied: typing-extensions>=3.6.6 in /usr/local/lib/python3.10/dist-packages (from TensorFlow==2.15.0) (4.12.2)\n",
            "Collecting wrapt<1.15,>=1.11.0 (from TensorFlow==2.15.0)\n",
            "  Downloading wrapt-1.14.1-cp310-cp310-manylinux_2_5_x86_64.manylinux1_x86_64.manylinux_2_17_x86_64.manylinux2014_x86_64.whl.metadata (6.7 kB)\n",
            "Requirement already satisfied: tensorflow-io-gcs-filesystem>=0.23.1 in /usr/local/lib/python3.10/dist-packages (from TensorFlow==2.15.0) (0.37.1)\n",
            "Requirement already satisfied: grpcio<2.0,>=1.24.3 in /usr/local/lib/python3.10/dist-packages (from TensorFlow==2.15.0) (1.68.1)\n",
            "Collecting tensorboard<2.16,>=2.15 (from TensorFlow==2.15.0)\n",
            "  Downloading tensorboard-2.15.2-py3-none-any.whl.metadata (1.7 kB)\n",
            "Collecting tensorflow-estimator<2.16,>=2.15.0 (from TensorFlow==2.15.0)\n",
            "  Downloading tensorflow_estimator-2.15.0-py2.py3-none-any.whl.metadata (1.3 kB)\n",
            "Collecting keras<2.16,>=2.15.0 (from TensorFlow==2.15.0)\n",
            "  Downloading keras-2.15.0-py3-none-any.whl.metadata (2.4 kB)\n",
            "Requirement already satisfied: wheel<1.0,>=0.23.0 in /usr/local/lib/python3.10/dist-packages (from astunparse>=1.6.0->TensorFlow==2.15.0) (0.45.1)\n",
            "Requirement already satisfied: google-auth<3,>=1.6.3 in /usr/local/lib/python3.10/dist-packages (from tensorboard<2.16,>=2.15->TensorFlow==2.15.0) (2.27.0)\n",
            "Requirement already satisfied: google-auth-oauthlib<2,>=0.5 in /usr/local/lib/python3.10/dist-packages (from tensorboard<2.16,>=2.15->TensorFlow==2.15.0) (1.2.1)\n",
            "Requirement already satisfied: markdown>=2.6.8 in /usr/local/lib/python3.10/dist-packages (from tensorboard<2.16,>=2.15->TensorFlow==2.15.0) (3.7)\n",
            "Requirement already satisfied: requests<3,>=2.21.0 in /usr/local/lib/python3.10/dist-packages (from tensorboard<2.16,>=2.15->TensorFlow==2.15.0) (2.32.3)\n",
            "Requirement already satisfied: tensorboard-data-server<0.8.0,>=0.7.0 in /usr/local/lib/python3.10/dist-packages (from tensorboard<2.16,>=2.15->TensorFlow==2.15.0) (0.7.2)\n",
            "Requirement already satisfied: werkzeug>=1.0.1 in /usr/local/lib/python3.10/dist-packages (from tensorboard<2.16,>=2.15->TensorFlow==2.15.0) (3.1.3)\n",
            "Requirement already satisfied: cachetools<6.0,>=2.0.0 in /usr/local/lib/python3.10/dist-packages (from google-auth<3,>=1.6.3->tensorboard<2.16,>=2.15->TensorFlow==2.15.0) (5.5.0)\n",
            "Requirement already satisfied: pyasn1-modules>=0.2.1 in /usr/local/lib/python3.10/dist-packages (from google-auth<3,>=1.6.3->tensorboard<2.16,>=2.15->TensorFlow==2.15.0) (0.4.1)\n",
            "Requirement already satisfied: rsa<5,>=3.1.4 in /usr/local/lib/python3.10/dist-packages (from google-auth<3,>=1.6.3->tensorboard<2.16,>=2.15->TensorFlow==2.15.0) (4.9)\n",
            "Requirement already satisfied: requests-oauthlib>=0.7.0 in /usr/local/lib/python3.10/dist-packages (from google-auth-oauthlib<2,>=0.5->tensorboard<2.16,>=2.15->TensorFlow==2.15.0) (1.3.1)\n",
            "Requirement already satisfied: charset-normalizer<4,>=2 in /usr/local/lib/python3.10/dist-packages (from requests<3,>=2.21.0->tensorboard<2.16,>=2.15->TensorFlow==2.15.0) (3.4.0)\n",
            "Requirement already satisfied: idna<4,>=2.5 in /usr/local/lib/python3.10/dist-packages (from requests<3,>=2.21.0->tensorboard<2.16,>=2.15->TensorFlow==2.15.0) (3.10)\n",
            "Requirement already satisfied: urllib3<3,>=1.21.1 in /usr/local/lib/python3.10/dist-packages (from requests<3,>=2.21.0->tensorboard<2.16,>=2.15->TensorFlow==2.15.0) (2.2.3)\n",
            "Requirement already satisfied: certifi>=2017.4.17 in /usr/local/lib/python3.10/dist-packages (from requests<3,>=2.21.0->tensorboard<2.16,>=2.15->TensorFlow==2.15.0) (2024.8.30)\n",
            "Requirement already satisfied: MarkupSafe>=2.1.1 in /usr/local/lib/python3.10/dist-packages (from werkzeug>=1.0.1->tensorboard<2.16,>=2.15->TensorFlow==2.15.0) (3.0.2)\n",
            "Requirement already satisfied: pyasn1<0.7.0,>=0.4.6 in /usr/local/lib/python3.10/dist-packages (from pyasn1-modules>=0.2.1->google-auth<3,>=1.6.3->tensorboard<2.16,>=2.15->TensorFlow==2.15.0) (0.6.1)\n",
            "Requirement already satisfied: oauthlib>=3.0.0 in /usr/local/lib/python3.10/dist-packages (from requests-oauthlib>=0.7.0->google-auth-oauthlib<2,>=0.5->tensorboard<2.16,>=2.15->TensorFlow==2.15.0) (3.2.2)\n",
            "Downloading tensorflow-2.15.0-cp310-cp310-manylinux_2_17_x86_64.manylinux2014_x86_64.whl (475.2 MB)\n",
            "\u001b[2K   \u001b[90m━━━━━━━━━━━━━━━━━━━━━━━━━━━━━━━━━━━━━━━━\u001b[0m \u001b[32m475.2/475.2 MB\u001b[0m \u001b[31m2.6 MB/s\u001b[0m eta \u001b[36m0:00:00\u001b[0m\n",
            "\u001b[?25hDownloading keras-2.15.0-py3-none-any.whl (1.7 MB)\n",
            "\u001b[2K   \u001b[90m━━━━━━━━━━━━━━━━━━━━━━━━━━━━━━━━━━━━━━━━\u001b[0m \u001b[32m1.7/1.7 MB\u001b[0m \u001b[31m49.7 MB/s\u001b[0m eta \u001b[36m0:00:00\u001b[0m\n",
            "\u001b[?25hDownloading ml_dtypes-0.2.0-cp310-cp310-manylinux_2_17_x86_64.manylinux2014_x86_64.whl (1.0 MB)\n",
            "\u001b[2K   \u001b[90m━━━━━━━━━━━━━━━━━━━━━━━━━━━━━━━━━━━━━━━━\u001b[0m \u001b[32m1.0/1.0 MB\u001b[0m \u001b[31m43.8 MB/s\u001b[0m eta \u001b[36m0:00:00\u001b[0m\n",
            "\u001b[?25hDownloading tensorboard-2.15.2-py3-none-any.whl (5.5 MB)\n",
            "\u001b[2K   \u001b[90m━━━━━━━━━━━━━━━━━━━━━━━━━━━━━━━━━━━━━━━━\u001b[0m \u001b[32m5.5/5.5 MB\u001b[0m \u001b[31m58.7 MB/s\u001b[0m eta \u001b[36m0:00:00\u001b[0m\n",
            "\u001b[?25hDownloading tensorflow_estimator-2.15.0-py2.py3-none-any.whl (441 kB)\n",
            "\u001b[2K   \u001b[90m━━━━━━━━━━━━━━━━━━━━━━━━━━━━━━━━━━━━━━━━\u001b[0m \u001b[32m442.0/442.0 kB\u001b[0m \u001b[31m26.1 MB/s\u001b[0m eta \u001b[36m0:00:00\u001b[0m\n",
            "\u001b[?25hDownloading wrapt-1.14.1-cp310-cp310-manylinux_2_5_x86_64.manylinux1_x86_64.manylinux_2_17_x86_64.manylinux2014_x86_64.whl (77 kB)\n",
            "\u001b[2K   \u001b[90m━━━━━━━━━━━━━━━━━━━━━━━━━━━━━━━━━━━━━━━━\u001b[0m \u001b[32m77.9/77.9 kB\u001b[0m \u001b[31m6.2 MB/s\u001b[0m eta \u001b[36m0:00:00\u001b[0m\n",
            "\u001b[?25hInstalling collected packages: wrapt, tensorflow-estimator, ml-dtypes, keras, tensorboard, TensorFlow\n",
            "  Attempting uninstall: wrapt\n",
            "    Found existing installation: wrapt 1.17.0\n",
            "    Uninstalling wrapt-1.17.0:\n",
            "      Successfully uninstalled wrapt-1.17.0\n",
            "  Attempting uninstall: ml-dtypes\n",
            "    Found existing installation: ml-dtypes 0.4.1\n",
            "    Uninstalling ml-dtypes-0.4.1:\n",
            "      Successfully uninstalled ml-dtypes-0.4.1\n",
            "  Attempting uninstall: keras\n",
            "    Found existing installation: keras 3.5.0\n",
            "    Uninstalling keras-3.5.0:\n",
            "      Successfully uninstalled keras-3.5.0\n",
            "  Attempting uninstall: tensorboard\n",
            "    Found existing installation: tensorboard 2.18.0\n",
            "    Uninstalling tensorboard-2.18.0:\n",
            "      Successfully uninstalled tensorboard-2.18.0\n",
            "  Attempting uninstall: TensorFlow\n",
            "    Found existing installation: tensorflow 2.18.0\n",
            "    Uninstalling tensorflow-2.18.0:\n",
            "      Successfully uninstalled tensorflow-2.18.0\n",
            "\u001b[31mERROR: pip's dependency resolver does not currently take into account all the packages that are installed. This behaviour is the source of the following dependency conflicts.\n",
            "tensorflow-decision-forests 1.11.0 requires tensorflow==2.18.0, but you have tensorflow 2.15.0 which is incompatible.\n",
            "tensorstore 0.1.69 requires ml-dtypes>=0.3.1, but you have ml-dtypes 0.2.0 which is incompatible.\n",
            "tf-keras 2.18.0 requires tensorflow<2.19,>=2.18, but you have tensorflow 2.15.0 which is incompatible.\u001b[0m\u001b[31m\n",
            "\u001b[0mSuccessfully installed TensorFlow-2.15.0 keras-2.15.0 ml-dtypes-0.2.0 tensorboard-2.15.2 tensorflow-estimator-2.15.0 wrapt-1.14.1\n",
            "Collecting tensorflow-decision-forests==1.8.1\n",
            "  Downloading tensorflow_decision_forests-1.8.1-cp310-cp310-manylinux_2_17_x86_64.manylinux2014_x86_64.whl.metadata (6.0 kB)\n",
            "Requirement already satisfied: numpy in /usr/local/lib/python3.10/dist-packages (from tensorflow-decision-forests==1.8.1) (1.26.4)\n",
            "Requirement already satisfied: pandas in /usr/local/lib/python3.10/dist-packages (from tensorflow-decision-forests==1.8.1) (2.2.2)\n",
            "Requirement already satisfied: tensorflow~=2.15.0 in /usr/local/lib/python3.10/dist-packages (from tensorflow-decision-forests==1.8.1) (2.15.0)\n",
            "Requirement already satisfied: six in /usr/local/lib/python3.10/dist-packages (from tensorflow-decision-forests==1.8.1) (1.16.0)\n",
            "Requirement already satisfied: absl-py in /usr/local/lib/python3.10/dist-packages (from tensorflow-decision-forests==1.8.1) (1.4.0)\n",
            "Requirement already satisfied: wheel in /usr/local/lib/python3.10/dist-packages (from tensorflow-decision-forests==1.8.1) (0.45.1)\n",
            "Requirement already satisfied: wurlitzer in /usr/local/lib/python3.10/dist-packages (from tensorflow-decision-forests==1.8.1) (3.1.1)\n",
            "Requirement already satisfied: astunparse>=1.6.0 in /usr/local/lib/python3.10/dist-packages (from tensorflow~=2.15.0->tensorflow-decision-forests==1.8.1) (1.6.3)\n",
            "Requirement already satisfied: flatbuffers>=23.5.26 in /usr/local/lib/python3.10/dist-packages (from tensorflow~=2.15.0->tensorflow-decision-forests==1.8.1) (24.3.25)\n",
            "Requirement already satisfied: gast!=0.5.0,!=0.5.1,!=0.5.2,>=0.2.1 in /usr/local/lib/python3.10/dist-packages (from tensorflow~=2.15.0->tensorflow-decision-forests==1.8.1) (0.6.0)\n",
            "Requirement already satisfied: google-pasta>=0.1.1 in /usr/local/lib/python3.10/dist-packages (from tensorflow~=2.15.0->tensorflow-decision-forests==1.8.1) (0.2.0)\n",
            "Requirement already satisfied: h5py>=2.9.0 in /usr/local/lib/python3.10/dist-packages (from tensorflow~=2.15.0->tensorflow-decision-forests==1.8.1) (3.12.1)\n",
            "Requirement already satisfied: libclang>=13.0.0 in /usr/local/lib/python3.10/dist-packages (from tensorflow~=2.15.0->tensorflow-decision-forests==1.8.1) (18.1.1)\n",
            "Requirement already satisfied: ml-dtypes~=0.2.0 in /usr/local/lib/python3.10/dist-packages (from tensorflow~=2.15.0->tensorflow-decision-forests==1.8.1) (0.2.0)\n",
            "Requirement already satisfied: opt-einsum>=2.3.2 in /usr/local/lib/python3.10/dist-packages (from tensorflow~=2.15.0->tensorflow-decision-forests==1.8.1) (3.4.0)\n",
            "Requirement already satisfied: packaging in /usr/local/lib/python3.10/dist-packages (from tensorflow~=2.15.0->tensorflow-decision-forests==1.8.1) (23.2)\n",
            "Requirement already satisfied: protobuf!=4.21.0,!=4.21.1,!=4.21.2,!=4.21.3,!=4.21.4,!=4.21.5,<5.0.0dev,>=3.20.3 in /usr/local/lib/python3.10/dist-packages (from tensorflow~=2.15.0->tensorflow-decision-forests==1.8.1) (4.25.5)\n",
            "Requirement already satisfied: setuptools in /usr/local/lib/python3.10/dist-packages (from tensorflow~=2.15.0->tensorflow-decision-forests==1.8.1) (75.1.0)\n",
            "Requirement already satisfied: termcolor>=1.1.0 in /usr/local/lib/python3.10/dist-packages (from tensorflow~=2.15.0->tensorflow-decision-forests==1.8.1) (2.5.0)\n",
            "Requirement already satisfied: typing-extensions>=3.6.6 in /usr/local/lib/python3.10/dist-packages (from tensorflow~=2.15.0->tensorflow-decision-forests==1.8.1) (4.12.2)\n",
            "Requirement already satisfied: wrapt<1.15,>=1.11.0 in /usr/local/lib/python3.10/dist-packages (from tensorflow~=2.15.0->tensorflow-decision-forests==1.8.1) (1.14.1)\n",
            "Requirement already satisfied: tensorflow-io-gcs-filesystem>=0.23.1 in /usr/local/lib/python3.10/dist-packages (from tensorflow~=2.15.0->tensorflow-decision-forests==1.8.1) (0.37.1)\n",
            "Requirement already satisfied: grpcio<2.0,>=1.24.3 in /usr/local/lib/python3.10/dist-packages (from tensorflow~=2.15.0->tensorflow-decision-forests==1.8.1) (1.68.1)\n",
            "Requirement already satisfied: tensorboard<2.16,>=2.15 in /usr/local/lib/python3.10/dist-packages (from tensorflow~=2.15.0->tensorflow-decision-forests==1.8.1) (2.15.2)\n",
            "Requirement already satisfied: tensorflow-estimator<2.16,>=2.15.0 in /usr/local/lib/python3.10/dist-packages (from tensorflow~=2.15.0->tensorflow-decision-forests==1.8.1) (2.15.0)\n",
            "Requirement already satisfied: keras<2.16,>=2.15.0 in /usr/local/lib/python3.10/dist-packages (from tensorflow~=2.15.0->tensorflow-decision-forests==1.8.1) (2.15.0)\n",
            "Requirement already satisfied: python-dateutil>=2.8.2 in /usr/local/lib/python3.10/dist-packages (from pandas->tensorflow-decision-forests==1.8.1) (2.8.2)\n",
            "Requirement already satisfied: pytz>=2020.1 in /usr/local/lib/python3.10/dist-packages (from pandas->tensorflow-decision-forests==1.8.1) (2024.2)\n",
            "Requirement already satisfied: tzdata>=2022.7 in /usr/local/lib/python3.10/dist-packages (from pandas->tensorflow-decision-forests==1.8.1) (2024.2)\n",
            "Requirement already satisfied: google-auth<3,>=1.6.3 in /usr/local/lib/python3.10/dist-packages (from tensorboard<2.16,>=2.15->tensorflow~=2.15.0->tensorflow-decision-forests==1.8.1) (2.27.0)\n",
            "Requirement already satisfied: google-auth-oauthlib<2,>=0.5 in /usr/local/lib/python3.10/dist-packages (from tensorboard<2.16,>=2.15->tensorflow~=2.15.0->tensorflow-decision-forests==1.8.1) (1.2.1)\n",
            "Requirement already satisfied: markdown>=2.6.8 in /usr/local/lib/python3.10/dist-packages (from tensorboard<2.16,>=2.15->tensorflow~=2.15.0->tensorflow-decision-forests==1.8.1) (3.7)\n",
            "Requirement already satisfied: requests<3,>=2.21.0 in /usr/local/lib/python3.10/dist-packages (from tensorboard<2.16,>=2.15->tensorflow~=2.15.0->tensorflow-decision-forests==1.8.1) (2.32.3)\n",
            "Requirement already satisfied: tensorboard-data-server<0.8.0,>=0.7.0 in /usr/local/lib/python3.10/dist-packages (from tensorboard<2.16,>=2.15->tensorflow~=2.15.0->tensorflow-decision-forests==1.8.1) (0.7.2)\n",
            "Requirement already satisfied: werkzeug>=1.0.1 in /usr/local/lib/python3.10/dist-packages (from tensorboard<2.16,>=2.15->tensorflow~=2.15.0->tensorflow-decision-forests==1.8.1) (3.1.3)\n",
            "Requirement already satisfied: cachetools<6.0,>=2.0.0 in /usr/local/lib/python3.10/dist-packages (from google-auth<3,>=1.6.3->tensorboard<2.16,>=2.15->tensorflow~=2.15.0->tensorflow-decision-forests==1.8.1) (5.5.0)\n",
            "Requirement already satisfied: pyasn1-modules>=0.2.1 in /usr/local/lib/python3.10/dist-packages (from google-auth<3,>=1.6.3->tensorboard<2.16,>=2.15->tensorflow~=2.15.0->tensorflow-decision-forests==1.8.1) (0.4.1)\n",
            "Requirement already satisfied: rsa<5,>=3.1.4 in /usr/local/lib/python3.10/dist-packages (from google-auth<3,>=1.6.3->tensorboard<2.16,>=2.15->tensorflow~=2.15.0->tensorflow-decision-forests==1.8.1) (4.9)\n",
            "Requirement already satisfied: requests-oauthlib>=0.7.0 in /usr/local/lib/python3.10/dist-packages (from google-auth-oauthlib<2,>=0.5->tensorboard<2.16,>=2.15->tensorflow~=2.15.0->tensorflow-decision-forests==1.8.1) (1.3.1)\n",
            "Requirement already satisfied: charset-normalizer<4,>=2 in /usr/local/lib/python3.10/dist-packages (from requests<3,>=2.21.0->tensorboard<2.16,>=2.15->tensorflow~=2.15.0->tensorflow-decision-forests==1.8.1) (3.4.0)\n",
            "Requirement already satisfied: idna<4,>=2.5 in /usr/local/lib/python3.10/dist-packages (from requests<3,>=2.21.0->tensorboard<2.16,>=2.15->tensorflow~=2.15.0->tensorflow-decision-forests==1.8.1) (3.10)\n",
            "Requirement already satisfied: urllib3<3,>=1.21.1 in /usr/local/lib/python3.10/dist-packages (from requests<3,>=2.21.0->tensorboard<2.16,>=2.15->tensorflow~=2.15.0->tensorflow-decision-forests==1.8.1) (2.2.3)\n",
            "Requirement already satisfied: certifi>=2017.4.17 in /usr/local/lib/python3.10/dist-packages (from requests<3,>=2.21.0->tensorboard<2.16,>=2.15->tensorflow~=2.15.0->tensorflow-decision-forests==1.8.1) (2024.8.30)\n",
            "Requirement already satisfied: MarkupSafe>=2.1.1 in /usr/local/lib/python3.10/dist-packages (from werkzeug>=1.0.1->tensorboard<2.16,>=2.15->tensorflow~=2.15.0->tensorflow-decision-forests==1.8.1) (3.0.2)\n",
            "Requirement already satisfied: pyasn1<0.7.0,>=0.4.6 in /usr/local/lib/python3.10/dist-packages (from pyasn1-modules>=0.2.1->google-auth<3,>=1.6.3->tensorboard<2.16,>=2.15->tensorflow~=2.15.0->tensorflow-decision-forests==1.8.1) (0.6.1)\n",
            "Requirement already satisfied: oauthlib>=3.0.0 in /usr/local/lib/python3.10/dist-packages (from requests-oauthlib>=0.7.0->google-auth-oauthlib<2,>=0.5->tensorboard<2.16,>=2.15->tensorflow~=2.15.0->tensorflow-decision-forests==1.8.1) (3.2.2)\n",
            "Downloading tensorflow_decision_forests-1.8.1-cp310-cp310-manylinux_2_17_x86_64.manylinux2014_x86_64.whl (15.3 MB)\n",
            "\u001b[2K   \u001b[90m━━━━━━━━━━━━━━━━━━━━━━━━━━━━━━━━━━━━━━━━\u001b[0m \u001b[32m15.3/15.3 MB\u001b[0m \u001b[31m74.8 MB/s\u001b[0m eta \u001b[36m0:00:00\u001b[0m\n",
            "\u001b[?25hInstalling collected packages: tensorflow-decision-forests\n",
            "  Attempting uninstall: tensorflow-decision-forests\n",
            "    Found existing installation: tensorflow_decision_forests 1.11.0\n",
            "    Uninstalling tensorflow_decision_forests-1.11.0:\n",
            "      Successfully uninstalled tensorflow_decision_forests-1.11.0\n",
            "Successfully installed tensorflow-decision-forests-1.8.1\n"
          ]
        }
      ]
    },
    {
      "cell_type": "code",
      "source": [
        "import tensorflow as tf\n",
        "print(tf.__version__)  # Versi TensorFlow\n"
      ],
      "metadata": {
        "id": "8tzVYcI3v0yC",
        "colab": {
          "base_uri": "https://localhost:8080/"
        },
        "outputId": "0d9f65ef-fbdd-4016-efa9-f169d92616d7"
      },
      "execution_count": null,
      "outputs": [
        {
          "output_type": "stream",
          "name": "stdout",
          "text": [
            "2.15.0\n"
          ]
        }
      ]
    },
    {
      "cell_type": "markdown",
      "source": [
        "# Mulai dari sini"
      ],
      "metadata": {
        "id": "CsfLQRiyyEBA"
      }
    },
    {
      "cell_type": "code",
      "execution_count": null,
      "metadata": {
        "id": "5lFm7bgDI-h0"
      },
      "outputs": [],
      "source": [
        "import os\n",
        "import shutil\n",
        "from sklearn.model_selection import train_test_split\n",
        "import tensorflow as tf\n",
        "from tensorflow.keras.preprocessing.image import ImageDataGenerator\n",
        "from tensorflow.keras.callbacks import EarlyStopping\n",
        "from tensorflow.keras.applications import MobileNetV2\n",
        "from tensorflow.keras import layers, models\n",
        "import numpy as np\n",
        "import matplotlib.pyplot as plt"
      ]
    },
    {
      "cell_type": "code",
      "source": [
        "from google.colab import drive\n",
        "drive.mount('/content/drive')"
      ],
      "metadata": {
        "colab": {
          "base_uri": "https://localhost:8080/"
        },
        "id": "gsq0nPKkKqTd",
        "outputId": "d949c42b-6eb2-49a5-cddb-1c984ee828b9"
      },
      "execution_count": null,
      "outputs": [
        {
          "output_type": "stream",
          "name": "stdout",
          "text": [
            "Mounted at /content/drive\n"
          ]
        }
      ]
    },
    {
      "cell_type": "code",
      "source": [
        "# Path directory\n",
        "base_dir = '/content/drive/MyDrive/Project_Bangkit/Uang_Baru'\n",
        "train_dir = os.path.join(base_dir, 'training_set')\n",
        "test_dir = os.path.join(base_dir, 'test_set')\n",
        "validation_dir = os.path.join(base_dir, 'validation_set')\n",
        "\n",
        "# money categories\n",
        "categories = ['100k', '50k', '20k', '10k', '5k', '2k', '1k']\n",
        "\n",
        "# Buat direktori jika belum ada\n",
        "for folder in [train_dir, test_dir, validation_dir]:\n",
        "    os.makedirs(folder, exist_ok=True)\n",
        "    for category in categories:\n",
        "        os.makedirs(os.path.join(folder, category), exist_ok=True)\n",
        "\n",
        "# Pembagian data\n",
        "for category in categories:\n",
        "    category_path = os.path.join(base_dir, category)\n",
        "    files = [f for f in os.listdir(category_path) if os.path.isfile(os.path.join(category_path, f))]\n",
        "\n",
        "    # Split data training dan sisa\n",
        "    train_files, temp_files = train_test_split(files, train_size=0.8, random_state=42)\n",
        "\n",
        "    # Split sisa menjadi validasi dan testing\n",
        "    val_files, test_files = train_test_split(temp_files, train_size=0.5, random_state=42)\n",
        "\n",
        "    # Salin file ke masing-masing folder\n",
        "    for file in train_files:\n",
        "        shutil.copy(os.path.join(category_path, file), os.path.join(train_dir, category, file))\n",
        "    for file in val_files:\n",
        "        shutil.copy(os.path.join(category_path, file), os.path.join(validation_dir, category, file))\n",
        "    for file in test_files:\n",
        "        shutil.copy(os.path.join(category_path, file), os.path.join(test_dir, category, file))\n",
        "print(\"[INFO] Proses pembagian dataset selesai.\")"
      ],
      "metadata": {
        "colab": {
          "base_uri": "https://localhost:8080/"
        },
        "id": "fYP9qyt8SoEI",
        "outputId": "d2b67ebe-8a6e-4345-e0bb-42b3d21f08cf"
      },
      "execution_count": null,
      "outputs": [
        {
          "output_type": "stream",
          "name": "stdout",
          "text": [
            "[INFO] Proses pembagian dataset selesai.\n"
          ]
        }
      ]
    },
    {
      "cell_type": "code",
      "source": [
        "# Konfigurasi augmentasi dan generator\n",
        "IMG_SIZE = (224, 224)\n",
        "\n",
        "# Data augmentation for training\n",
        "train_datagen = ImageDataGenerator(\n",
        "    rescale=1./255,\n",
        "    rotation_range=20,\n",
        "    width_shift_range=0.1,\n",
        "    height_shift_range=0.1,\n",
        "    shear_range=0.2,\n",
        "    zoom_range=0.2,\n",
        "    horizontal_flip=True,\n",
        "    brightness_range=[0.8, 1.2],\n",
        "    fill_mode='nearest'\n",
        ")\n",
        "# Generator untuk data tanpa augmentasi\n",
        "test_datagen = ImageDataGenerator(rescale=1./255)"
      ],
      "metadata": {
        "id": "Qr6AQC0Ci45W"
      },
      "execution_count": null,
      "outputs": []
    },
    {
      "cell_type": "code",
      "source": [
        "\n",
        "# Mapping category\n",
        "desired_mapping = {'100k': 6, '50k': 5, '20k': 4, '10k': 3, '5k': 2, '2k': 1, '1k': 0}\n",
        "\n",
        "# Generator untuk training\n",
        "train_generator = train_datagen.flow_from_directory(\n",
        "    train_dir,\n",
        "    target_size=IMG_SIZE,\n",
        "    batch_size=16,\n",
        "    class_mode='categorical'\n",
        ")\n",
        "\n",
        "# Generator untuk validasi\n",
        "validation_generator = test_datagen.flow_from_directory(\n",
        "    validation_dir,\n",
        "    target_size=IMG_SIZE,\n",
        "    batch_size=16,\n",
        "    class_mode='categorical'\n",
        ")\n",
        "\n",
        "# Generator untuk testing\n",
        "test_generator = test_datagen.flow_from_directory(\n",
        "    test_dir,\n",
        "    target_size=IMG_SIZE,\n",
        "    batch_size=16,\n",
        "    class_mode='categorical'\n",
        ")\n",
        "\n",
        "# Update label generator\n",
        "def update_generator_labels(generator):\n",
        "    generator.classes = np.array([\n",
        "        desired_mapping[os.path.split(filename)[0].split('/')[-1]]\n",
        "        for filename in generator.filenames\n",
        "    ])\n",
        "    generator.class_indices = desired_mapping\n",
        "\n",
        "# Update labels\n",
        "update_generator_labels(train_generator)\n",
        "update_generator_labels(validation_generator)\n",
        "update_generator_labels(test_generator)\n",
        "\n",
        "print(\"Pembagian dan generator dataset selesai.\")"
      ],
      "metadata": {
        "colab": {
          "base_uri": "https://localhost:8080/"
        },
        "id": "iqC2ZHW6T5b-",
        "outputId": "34bcd181-fe54-4b21-d6eb-3dc2274efcab"
      },
      "execution_count": null,
      "outputs": [
        {
          "output_type": "stream",
          "name": "stdout",
          "text": [
            "Found 1320 images belonging to 7 classes.\n",
            "Found 328 images belonging to 7 classes.\n",
            "Found 324 images belonging to 7 classes.\n",
            "Pembagian dan generator dataset selesai.\n"
          ]
        }
      ]
    },
    {
      "cell_type": "code",
      "source": [
        "# Cek apakah label sudah sesuai mapping\n",
        "def check_label_mapping(generator):\n",
        "    mismatched = []\n",
        "    for filename, label in zip(generator.filenames, generator.classes):\n",
        "        category = os.path.split(filename)[0].split('/')[-1]\n",
        "        if label != desired_mapping[category]:\n",
        "            mismatched.append((filename, category, label, desired_mapping[category]))\n",
        "\n",
        "    if mismatched:\n",
        "        print(\"Terdapat ketidaksesuaian label:\")\n",
        "        for file, category, current_label, expected_label in mismatched:\n",
        "            print(f\"File: {file}\")\n",
        "            print(f\"Kategori: {category}\")\n",
        "            print(f\"Current Label: {current_label}\")\n",
        "            print(f\"Expected Label: {expected_label}\")\n",
        "            print(\"---\")\n",
        "    else:\n",
        "        print(\"Semua label sudah sesuai mapping!\")\n",
        "\n",
        "# Jalankan pengecekan\n",
        "check_label_mapping(train_generator)\n",
        "check_label_mapping(validation_generator)\n",
        "check_label_mapping(test_generator)"
      ],
      "metadata": {
        "colab": {
          "base_uri": "https://localhost:8080/"
        },
        "id": "sNd815gkVUwY",
        "outputId": "5758d903-c61d-4eac-b799-e39a5b60c576"
      },
      "execution_count": null,
      "outputs": [
        {
          "output_type": "stream",
          "name": "stdout",
          "text": [
            "Semua label sudah sesuai mapping!\n",
            "Semua label sudah sesuai mapping!\n",
            "Semua label sudah sesuai mapping!\n"
          ]
        }
      ]
    },
    {
      "cell_type": "code",
      "source": [
        "# Cek jumlah gambar per kelas di setiap generator\n",
        "def print_class_distribution(generator, set_name):\n",
        "    print(f\"\\nDistribusi Kelas di {set_name}:\")\n",
        "    for class_name, class_index in generator.class_indices.items():\n",
        "        class_count = list(generator.classes).count(class_index)\n",
        "        total_samples = len(generator.classes)\n",
        "        percentage = (class_count / total_samples) * 100\n",
        "        print(f\"{class_name}: {class_count} gambar ({percentage:.2f}%)\")\n",
        "    print(f\"Total sampel di {set_name}: {len(generator.classes)}\")\n",
        "\n",
        "# Panggil fungsi untuk setiap generator\n",
        "print_class_distribution(train_generator, \"Training Set\")\n",
        "print_class_distribution(validation_generator, \"Validation Set\")\n",
        "print_class_distribution(test_generator, \"Test Set\")\n",
        "\n",
        "# Visualisasi distribusi kelas\n",
        "import matplotlib.pyplot as plt\n",
        "\n",
        "def plot_class_distribution(generator, set_name):\n",
        "    # Hitung jumlah gambar per kelas\n",
        "    class_counts = {}\n",
        "    for class_name, class_index in generator.class_indices.items():\n",
        "        class_counts[class_name] = list(generator.classes).count(class_index)\n",
        "\n",
        "    # Buat bar plot\n",
        "    plt.figure(figsize=(10, 5))\n",
        "    plt.bar(class_counts.keys(), class_counts.values())\n",
        "    plt.title(f'Distribusi Kelas di {set_name}')\n",
        "    plt.xlabel('Kelas')\n",
        "    plt.ylabel('Jumlah Gambar')\n",
        "    plt.xticks(rotation=45)\n",
        "\n",
        "    # Tambahkan label jumlah di atas setiap bar\n",
        "    for i, (kelas, jumlah) in enumerate(class_counts.items()):\n",
        "        plt.text(i, jumlah, str(jumlah), ha='center', va='bottom')\n",
        "\n",
        "    plt.tight_layout()\n",
        "    plt.show()\n",
        "\n",
        "# Visualisasi distribusi kelas\n",
        "plot_class_distribution(train_generator, \"Training Set\")\n",
        "plot_class_distribution(validation_generator, \"Validation Set\")\n",
        "plot_class_distribution(test_generator, \"Test Set\")\n",
        "\n",
        "# Cek detail generator\n",
        "print(\"\\nDetail Generator:\")\n",
        "print(\"Training Generator:\")\n",
        "print(\"Jumlah sampel:\", train_generator.samples)\n",
        "print(\"Jumlah kelas:\", train_generator.num_classes)\n",
        "print(\"Indices kelas:\", train_generator.class_indices)"
      ],
      "metadata": {
        "colab": {
          "base_uri": "https://localhost:8080/",
          "height": 1000
        },
        "id": "4C4xXBRsUpzD",
        "outputId": "d608685f-b8bd-4df9-ccc0-4817b8fad32b"
      },
      "execution_count": null,
      "outputs": [
        {
          "output_type": "stream",
          "name": "stdout",
          "text": [
            "\n",
            "Distribusi Kelas di Training Set:\n",
            "100k: 181 gambar (13.71%)\n",
            "50k: 217 gambar (16.44%)\n",
            "20k: 171 gambar (12.95%)\n",
            "10k: 201 gambar (15.23%)\n",
            "5k: 181 gambar (13.71%)\n",
            "2k: 222 gambar (16.82%)\n",
            "1k: 147 gambar (11.14%)\n",
            "Total sampel di Training Set: 1320\n",
            "\n",
            "Distribusi Kelas di Validation Set:\n",
            "100k: 48 gambar (14.63%)\n",
            "50k: 54 gambar (16.46%)\n",
            "20k: 36 gambar (10.98%)\n",
            "10k: 51 gambar (15.55%)\n",
            "5k: 48 gambar (14.63%)\n",
            "2k: 57 gambar (17.38%)\n",
            "1k: 34 gambar (10.37%)\n",
            "Total sampel di Validation Set: 328\n",
            "\n",
            "Distribusi Kelas di Test Set:\n",
            "100k: 47 gambar (14.51%)\n",
            "50k: 54 gambar (16.67%)\n",
            "20k: 39 gambar (12.04%)\n",
            "10k: 50 gambar (15.43%)\n",
            "5k: 47 gambar (14.51%)\n",
            "2k: 55 gambar (16.98%)\n",
            "1k: 32 gambar (9.88%)\n",
            "Total sampel di Test Set: 324\n"
          ]
        },
        {
          "output_type": "display_data",
          "data": {
            "text/plain": [
              "<Figure size 1000x500 with 1 Axes>"
            ],
            "image/png": "[encoded data removed]"
          },
          "metadata": {}
        },
        {
          "output_type": "display_data",
          "data": {
            "text/plain": [
              "<Figure size 1000x500 with 1 Axes>"
            ],
            "image/png": "[encoded data removed]"
          },
          "metadata": {}
        },
        {
          "output_type": "display_data",
          "data": {
            "text/plain": [
              "<Figure size 1000x500 with 1 Axes>"
            ],
            "image/png": "[encoded data removed]"
          },
          "metadata": {}
        },
        {
          "output_type": "stream",
          "name": "stdout",
          "text": [
            "\n",
            "Detail Generator:\n",
            "Training Generator:\n",
            "Jumlah sampel: 1320\n",
            "Jumlah kelas: 7\n",
            "Indices kelas: {'100k': 6, '50k': 5, '20k': 4, '10k': 3, '5k': 2, '2k': 1, '1k': 0}\n"
          ]
        }
      ]
    },
    {
      "cell_type": "code",
      "source": [
        "from tensorflow.keras.applications import MobileNetV2\n",
        "from tensorflow.keras import layers, models\n",
        "from tensorflow.keras.callbacks import EarlyStopping, ReduceLROnPlateau\n",
        "import tensorflow as tf\n",
        "import matplotlib.pyplot as plt\n",
        "\n",
        "# Ukuran input gambar\n",
        "IMG_SIZE = (224, 224)\n",
        "\n",
        "# Membuat model menggunakan MobileNetV2\n",
        "def create_mobilenetv2_model(num_classes):\n",
        "    # Base model\n",
        "    base_model = MobileNetV2(input_shape=IMG_SIZE + (3,),include_top=False,weights='imagenet')\n",
        "    base_model.trainable = False\n",
        "    model = models.Sequential([\n",
        "        base_model,\n",
        "        layers.GlobalAveragePooling2D(),\n",
        "        layers.Dense(256, activation='relu'),\n",
        "        layers.BatchNormalization(),\n",
        "        layers.Dropout(0.5),\n",
        "        layers.Dense(num_classes, activation='softmax')\n",
        "    ])\n",
        "\n",
        "    # Kompilasi model awal\n",
        "    model.compile(\n",
        "        optimizer='adam',\n",
        "        loss='categorical_crossentropy',\n",
        "        metrics=['accuracy']\n",
        "    )\n",
        "\n",
        "    return model, base_model\n",
        "\n",
        "# Buat model\n",
        "model, base_model = create_mobilenetv2_model(len(categories))\n",
        "\n",
        "# Tampilkan summary model\n",
        "model.summary()"
      ],
      "metadata": {
        "colab": {
          "base_uri": "https://localhost:8080/"
        },
        "id": "EUSs2SbdVjHR",
        "outputId": "098e0f5f-4097-4716-f2f6-15da8e675adf"
      },
      "execution_count": null,
      "outputs": [
        {
          "output_type": "stream",
          "name": "stdout",
          "text": [
            "Model: \"sequential_2\"\n",
            "_________________________________________________________________\n",
            " Layer (type)                Output Shape              Param #   \n",
            "=================================================================\n",
            " mobilenetv2_1.00_224 (Func  (None, 7, 7, 1280)        2257984   \n",
            " tional)                                                         \n",
            "                                                                 \n",
            " global_average_pooling2d_2  (None, 1280)              0         \n",
            "  (GlobalAveragePooling2D)                                       \n",
            "                                                                 \n",
            " dense_4 (Dense)             (None, 256)               327936    \n",
            "                                                                 \n",
            " batch_normalization_2 (Bat  (None, 256)               1024      \n",
            " chNormalization)                                                \n",
            "                                                                 \n",
            " dropout_2 (Dropout)         (None, 256)               0         \n",
            "                                                                 \n",
            " dense_5 (Dense)             (None, 7)                 1799      \n",
            "                                                                 \n",
            "=================================================================\n",
            "Total params: 2588743 (9.88 MB)\n",
            "Trainable params: 330247 (1.26 MB)\n",
            "Non-trainable params: 2258496 (8.62 MB)\n",
            "_________________________________________________________________\n"
          ]
        }
      ]
    },
    {
      "cell_type": "code",
      "source": [
        "# Callbacks\n",
        "early_stopping = EarlyStopping(\n",
        "    monitor='val_loss',\n",
        "    patience=5,\n",
        "    restore_best_weights=True\n",
        ")\n",
        "\n",
        "reduce_lr = ReduceLROnPlateau(\n",
        "    monitor='val_loss',\n",
        "    factor=0.2,\n",
        "    patience=3,\n",
        "    min_lr=1e-6\n",
        ")\n",
        "\n",
        "# Training\n",
        "history = model.fit(\n",
        "    train_generator,\n",
        "    validation_data=validation_generator,\n",
        "    epochs=50,\n",
        "    callbacks=[early_stopping, reduce_lr]\n",
        ")"
      ],
      "metadata": {
        "colab": {
          "base_uri": "https://localhost:8080/"
        },
        "id": "lSWhU4_qXYnh",
        "outputId": "5d73940a-ad70-44b9-d2f3-90359c52500b"
      },
      "execution_count": null,
      "outputs": [
        {
          "output_type": "stream",
          "name": "stdout",
          "text": [
            "Epoch 1/50\n",
            "83/83 [==============================] - 76s 872ms/step - loss: 1.2577 - accuracy: 0.6000 - val_loss: 0.8992 - val_accuracy: 0.6860 - lr: 0.0010\n",
            "Epoch 2/50\n",
            "83/83 [==============================] - 71s 859ms/step - loss: 0.5586 - accuracy: 0.8068 - val_loss: 0.5480 - val_accuracy: 0.8232 - lr: 0.0010\n",
            "Epoch 3/50\n",
            "83/83 [==============================] - 73s 881ms/step - loss: 0.3772 - accuracy: 0.8727 - val_loss: 0.3814 - val_accuracy: 0.8963 - lr: 0.0010\n",
            "Epoch 4/50\n",
            "83/83 [==============================] - 72s 864ms/step - loss: 0.3324 - accuracy: 0.8848 - val_loss: 0.3274 - val_accuracy: 0.8841 - lr: 0.0010\n",
            "Epoch 5/50\n",
            "83/83 [==============================] - 69s 830ms/step - loss: 0.3069 - accuracy: 0.8939 - val_loss: 0.3012 - val_accuracy: 0.8933 - lr: 0.0010\n",
            "Epoch 6/50\n",
            "83/83 [==============================] - 70s 840ms/step - loss: 0.2685 - accuracy: 0.9068 - val_loss: 0.3065 - val_accuracy: 0.8933 - lr: 0.0010\n",
            "Epoch 7/50\n",
            "83/83 [==============================] - 72s 866ms/step - loss: 0.2274 - accuracy: 0.9273 - val_loss: 0.2893 - val_accuracy: 0.9024 - lr: 0.0010\n",
            "Epoch 8/50\n",
            "83/83 [==============================] - 69s 832ms/step - loss: 0.1917 - accuracy: 0.9432 - val_loss: 0.3270 - val_accuracy: 0.8902 - lr: 0.0010\n",
            "Epoch 9/50\n",
            "83/83 [==============================] - 71s 850ms/step - loss: 0.2065 - accuracy: 0.9326 - val_loss: 0.2685 - val_accuracy: 0.9085 - lr: 0.0010\n",
            "Epoch 10/50\n",
            "83/83 [==============================] - 69s 830ms/step - loss: 0.1899 - accuracy: 0.9439 - val_loss: 0.2537 - val_accuracy: 0.9177 - lr: 0.0010\n",
            "Epoch 11/50\n",
            "83/83 [==============================] - 80s 967ms/step - loss: 0.1964 - accuracy: 0.9273 - val_loss: 0.2189 - val_accuracy: 0.9421 - lr: 0.0010\n",
            "Epoch 12/50\n",
            "83/83 [==============================] - 69s 828ms/step - loss: 0.1908 - accuracy: 0.9318 - val_loss: 0.2190 - val_accuracy: 0.9329 - lr: 0.0010\n",
            "Epoch 13/50\n",
            "83/83 [==============================] - 70s 847ms/step - loss: 0.1579 - accuracy: 0.9553 - val_loss: 0.2421 - val_accuracy: 0.9299 - lr: 0.0010\n",
            "Epoch 14/50\n",
            "83/83 [==============================] - 66s 800ms/step - loss: 0.1610 - accuracy: 0.9477 - val_loss: 0.2539 - val_accuracy: 0.9207 - lr: 0.0010\n",
            "Epoch 15/50\n",
            "83/83 [==============================] - 68s 820ms/step - loss: 0.1398 - accuracy: 0.9515 - val_loss: 0.2181 - val_accuracy: 0.9390 - lr: 2.0000e-04\n",
            "Epoch 16/50\n",
            "83/83 [==============================] - 70s 842ms/step - loss: 0.1357 - accuracy: 0.9492 - val_loss: 0.2385 - val_accuracy: 0.9329 - lr: 2.0000e-04\n",
            "Epoch 17/50\n",
            "83/83 [==============================] - 66s 799ms/step - loss: 0.1251 - accuracy: 0.9629 - val_loss: 0.2548 - val_accuracy: 0.9268 - lr: 2.0000e-04\n",
            "Epoch 18/50\n",
            "83/83 [==============================] - 67s 801ms/step - loss: 0.1365 - accuracy: 0.9568 - val_loss: 0.2430 - val_accuracy: 0.9299 - lr: 2.0000e-04\n",
            "Epoch 19/50\n",
            "83/83 [==============================] - 66s 801ms/step - loss: 0.1069 - accuracy: 0.9636 - val_loss: 0.2346 - val_accuracy: 0.9329 - lr: 4.0000e-05\n",
            "Epoch 20/50\n",
            "83/83 [==============================] - 67s 812ms/step - loss: 0.1174 - accuracy: 0.9606 - val_loss: 0.2309 - val_accuracy: 0.9360 - lr: 4.0000e-05\n"
          ]
        }
      ]
    },
    {
      "cell_type": "code",
      "source": [
        "# Fine-tuning\n",
        "base_model.trainable = True\n",
        "for layer in base_model.layers[:-20]:\n",
        "    layer.trainable = False\n",
        "\n",
        "# Kompilasi ulang dengan learning rate rendah\n",
        "model.compile(\n",
        "    optimizer=tf.keras.optimizers.Adam(learning_rate=1e-5),\n",
        "    loss='categorical_crossentropy',\n",
        "    metrics=['accuracy']\n",
        ")"
      ],
      "metadata": {
        "id": "gLOKWK8kiK_x"
      },
      "execution_count": null,
      "outputs": []
    },
    {
      "cell_type": "code",
      "source": [
        "\n",
        "# Training lanjutan\n",
        "history_fine = model.fit(\n",
        "    train_generator,\n",
        "    validation_data=validation_generator,\n",
        "    epochs=30,\n",
        "    callbacks=[early_stopping, reduce_lr]\n",
        ")"
      ],
      "metadata": {
        "colab": {
          "base_uri": "https://localhost:8080/"
        },
        "id": "V-yWjRMRfiWR",
        "outputId": "1da2077b-a51d-49c4-d730-487fb967b9fb"
      },
      "execution_count": null,
      "outputs": [
        {
          "output_type": "stream",
          "name": "stdout",
          "text": [
            "Epoch 1/30\n",
            "83/83 [==============================] - 74s 793ms/step - loss: 0.6174 - accuracy: 0.7879 - val_loss: 0.2455 - val_accuracy: 0.9329 - lr: 1.0000e-05\n",
            "Epoch 2/30\n",
            "83/83 [==============================] - 69s 828ms/step - loss: 0.4552 - accuracy: 0.8470 - val_loss: 0.2993 - val_accuracy: 0.9207 - lr: 1.0000e-05\n",
            "Epoch 3/30\n",
            "83/83 [==============================] - 65s 784ms/step - loss: 0.3799 - accuracy: 0.8682 - val_loss: 0.3503 - val_accuracy: 0.9024 - lr: 1.0000e-05\n",
            "Epoch 4/30\n",
            "83/83 [==============================] - 69s 836ms/step - loss: 0.3200 - accuracy: 0.8932 - val_loss: 0.3605 - val_accuracy: 0.9024 - lr: 1.0000e-05\n",
            "Epoch 5/30\n",
            "83/83 [==============================] - 69s 833ms/step - loss: 0.2953 - accuracy: 0.9015 - val_loss: 0.3492 - val_accuracy: 0.9085 - lr: 2.0000e-06\n",
            "Epoch 6/30\n",
            "83/83 [==============================] - 70s 845ms/step - loss: 0.2895 - accuracy: 0.9000 - val_loss: 0.3360 - val_accuracy: 0.9207 - lr: 2.0000e-06\n"
          ]
        }
      ]
    },
    {
      "cell_type": "code",
      "source": [
        "# Evaluasi model\n",
        "test_loss, test_accuracy = model.evaluate(test_generator)\n",
        "print(f\"Test Accuracy: {test_accuracy*100:.2f}%\")"
      ],
      "metadata": {
        "colab": {
          "base_uri": "https://localhost:8080/"
        },
        "id": "udl4BH14dqca",
        "outputId": "57e9d53b-276f-43d4-9455-29e47d92e443"
      },
      "execution_count": null,
      "outputs": [
        {
          "output_type": "stream",
          "name": "stdout",
          "text": [
            "21/21 [==============================] - 10s 497ms/step - loss: 0.2805 - accuracy: 0.9167\n",
            "Test Accuracy: 91.67%\n"
          ]
        }
      ]
    },
    {
      "cell_type": "code",
      "source": [
        "# Visualisasi Training History\n",
        "def plot_training_history(history):\n",
        "    plt.figure(figsize=(12,4))\n",
        "\n",
        "    # Plot accuracy\n",
        "    plt.subplot(1,2,1)\n",
        "    plt.plot(history.history['accuracy'], label='Training Accuracy')\n",
        "    plt.plot(history.history['val_accuracy'], label='Validation Accuracy')\n",
        "    plt.title('Model Accuracy')\n",
        "    plt.ylabel('Accuracy')\n",
        "    plt.xlabel('Epoch')\n",
        "    plt.legend()\n",
        "\n",
        "    # Plot loss\n",
        "    plt.subplot(1,2,2)\n",
        "    plt.plot(history.history['loss'], label='Training Loss')\n",
        "    plt.plot(history.history['val_loss'], label='Validation Loss')\n",
        "    plt.title('Model Loss')\n",
        "    plt.ylabel('Loss')\n",
        "    plt.xlabel('Epoch')\n",
        "    plt.legend()\n",
        "\n",
        "    plt.tight_layout()\n",
        "    plt.show()\n",
        "\n",
        "# Visualisasi history training\n",
        "plot_training_history(history)\n"
      ],
      "metadata": {
        "colab": {
          "base_uri": "https://localhost:8080/",
          "height": 407
        },
        "id": "ffjTVhnCdxJJ",
        "outputId": "82e61a3c-0f7c-45bc-9133-bd337842c1a9"
      },
      "execution_count": null,
      "outputs": [
        {
          "output_type": "display_data",
          "data": {
            "text/plain": [
              "<Figure size 1200x400 with 2 Axes>"
            ],
            "image/png": "[encoded data removed]"
          },
          "metadata": {}
        }
      ]
    },
    {
      "cell_type": "code",
      "source": [
        "# Prediksi dan klasifikasi\n",
        "def predict_and_print(generator, model):\n",
        "    # Ambil beberapa gambar dari generator\n",
        "    images, labels = next(generator)\n",
        "\n",
        "    # Prediksi\n",
        "    predictions = model.predict(images)\n",
        "\n",
        "    # Cetak prediksi vs aktual\n",
        "    for i in range(len(images)):\n",
        "        pred_class = np.argmax(predictions[i])\n",
        "        true_class = np.argmax(labels[i])\n",
        "\n",
        "        print(f\"Prediksi: {list(desired_mapping.keys())[list(desired_mapping.values()).index(pred_class)]}\")\n",
        "        print(f\"Aktual: {list(desired_mapping.keys())[list(desired_mapping.values()).index(true_class)]}\")\n",
        "        print(\"---\")\n",
        "\n",
        "# Jalankan prediksi\n",
        "predict_and_print(test_generator, model)"
      ],
      "metadata": {
        "colab": {
          "base_uri": "https://localhost:8080/"
        },
        "id": "kr32XVRleAiQ",
        "outputId": "8db101a8-1822-415a-eb41-3e5ead01415e"
      },
      "execution_count": null,
      "outputs": [
        {
          "output_type": "stream",
          "name": "stdout",
          "text": [
            "1/1 [==============================] - 1s 839ms/step\n",
            "Prediksi: 1k\n",
            "Aktual: 1k\n",
            "---\n",
            "Prediksi: 5k\n",
            "Aktual: 5k\n",
            "---\n",
            "Prediksi: 100k\n",
            "Aktual: 100k\n",
            "---\n",
            "Prediksi: 1k\n",
            "Aktual: 1k\n",
            "---\n",
            "Prediksi: 10k\n",
            "Aktual: 10k\n",
            "---\n",
            "Prediksi: 20k\n",
            "Aktual: 20k\n",
            "---\n",
            "Prediksi: 20k\n",
            "Aktual: 20k\n",
            "---\n",
            "Prediksi: 5k\n",
            "Aktual: 5k\n",
            "---\n",
            "Prediksi: 100k\n",
            "Aktual: 100k\n",
            "---\n",
            "Prediksi: 100k\n",
            "Aktual: 100k\n",
            "---\n",
            "Prediksi: 20k\n",
            "Aktual: 20k\n",
            "---\n",
            "Prediksi: 20k\n",
            "Aktual: 20k\n",
            "---\n",
            "Prediksi: 10k\n",
            "Aktual: 5k\n",
            "---\n",
            "Prediksi: 10k\n",
            "Aktual: 10k\n",
            "---\n",
            "Prediksi: 50k\n",
            "Aktual: 50k\n",
            "---\n",
            "Prediksi: 100k\n",
            "Aktual: 100k\n",
            "---\n"
          ]
        }
      ]
    },
    {
      "cell_type": "code",
      "source": [
        "from tensorflow.keras.preprocessing import image\n",
        "import numpy as np\n",
        "\n",
        "# Fungsi untuk memuat dan mempersiapkan gambar\n",
        "def load_and_prepare_image(image_path, target_size):\n",
        "    img = image.load_img(image_path, target_size=target_size)  # Muat gambar dan sesuaikan ukurannya\n",
        "    img_array = image.img_to_array(img)  # Ubah gambar menjadi array\n",
        "    img_array = np.expand_dims(img_array, axis=0)  # Tambahkan dimensi batch\n",
        "    img_array /= 255.0  # Normalisasi (jika model memerlukan normalisasi)\n",
        "    return img_array\n",
        "\n",
        "# Prediksi dan klasifikasi untuk gambar tunggal\n",
        "def predict_and_print_single_image(image_path, model, target_size):\n",
        "    # Muat dan persiapkan gambar\n",
        "    img_array = load_and_prepare_image(image_path, target_size)\n",
        "\n",
        "    # Prediksi\n",
        "    predictions = model.predict(img_array)\n",
        "\n",
        "    # Ambil kelas prediksi\n",
        "    pred_class = np.argmax(predictions[0])  # Ambil prediksi untuk gambar tunggal\n",
        "\n",
        "    # Cetak prediksi\n",
        "    print(f\"Prediksi: {list(desired_mapping.keys())[list(desired_mapping.values()).index(pred_class)]}\")\n",
        "    print(\"---\")\n",
        "\n",
        "# Path gambar yang ingin diprediksi\n",
        "image_path = '/content/drive/MyDrive/Project_Bangkit/uang1.jpg'\n",
        "\n",
        "# Tentukan ukuran target yang sesuai dengan input model Anda\n",
        "target_size = (224, 224)  # Sesuaikan dengan ukuran input model Anda\n",
        "\n",
        "# Jalankan prediksi untuk gambar tunggal\n",
        "predict_and_print_single_image(image_path, model, target_size)\n"
      ],
      "metadata": {
        "colab": {
          "base_uri": "https://localhost:8080/"
        },
        "id": "_LwmTDBdeiDC",
        "outputId": "65ecdef8-322c-444c-b30a-a6401f24e186"
      },
      "execution_count": null,
      "outputs": [
        {
          "output_type": "stream",
          "name": "stdout",
          "text": [
            "1/1 [==============================] - 0s 46ms/step\n",
            "Prediksi: 50k\n",
            "---\n"
          ]
        }
      ]
    },
    {
      "cell_type": "code",
      "source": [
        "import tensorflow as tf\n",
        "import numpy as np\n",
        "from tensorflow.keras.preprocessing.image import load_img, img_to_array\n",
        "\n",
        "# Definisikan ukuran gambar sesuai model\n",
        "IMG_SIZE = (224, 224)  # Sesuaikan dengan ukuran input model Anda\n",
        "\n",
        "# Definisikan mapping label ke nama kategori\n",
        "label_mapping = {0: '1k', 1: '2k', 2: '5k', 3: '10k', 4: '20k', 5: '50k', 6: '100k'}\n",
        "\n",
        "# Fungsi untuk memuat dan memproses gambar\n",
        "def preprocess_image(image_path, img_size=IMG_SIZE):\n",
        "    # Muat gambar\n",
        "    img = load_img(image_path, target_size=img_size)\n",
        "    # Ubah gambar ke array\n",
        "    img_array = img_to_array(img)\n",
        "    # Normalisasi (rescale) nilai piksel\n",
        "    img_array = img_array / 255.0\n",
        "    # Tambahkan dimensi batch\n",
        "    img_array = np.expand_dims(img_array, axis=0)\n",
        "    return img_array\n",
        "\n",
        "# Lakukan prediksi pada gambar\n",
        "def predict_images(model, image_paths):\n",
        "    predictions = []\n",
        "    for path in image_paths:\n",
        "        # Preproses gambar\n",
        "        img_array = preprocess_image(path)\n",
        "        # Lakukan prediksi\n",
        "        prediction = model.predict(img_array)\n",
        "        # Ambil indeks label dengan probabilitas tertinggi\n",
        "        predicted_label = np.argmax(prediction, axis=1)[0]\n",
        "        # Tambahkan hasil ke daftar\n",
        "        predictions.append(label_mapping[predicted_label])\n",
        "    return predictions\n",
        "\n",
        "# Daftar path gambar\n",
        "test_image_paths = [\n",
        "    '/content/drive/MyDrive/Project_Bangkit/uang100k.jpg',\n",
        "    '/content/drive/MyDrive/Project_Bangkit/uang50k.jpg',\n",
        "    '/content/drive/MyDrive/Project_Bangkit/uang20k.jpg',\n",
        "    '/content/drive/MyDrive/Project_Bangkit/uang10k.jpg',\n",
        "    '/content/drive/MyDrive/Project_Bangkit/uang5k.jpg',\n",
        "    '/content/drive/MyDrive/Project_Bangkit/uang2k.jpg',\n",
        "    '/content/drive/MyDrive/Project_Bangkit/uang1k.jpg',\n",
        "    '/content/drive/MyDrive/Project_Bangkit/100wa.jpg',\n",
        "    '/content/drive/MyDrive/Project_Bangkit/50wa.jpg',\n",
        "    '/content/drive/MyDrive/Project_Bangkit/20wa.jpg',\n",
        "    '/content/drive/MyDrive/Project_Bangkit/100wa2.jpg',\n",
        "    '/content/drive/MyDrive/Project_Bangkit/2wa.jpg',\n",
        "    '/content/drive/MyDrive/Project_Bangkit/1wa.jpg'\n",
        "]\n",
        "\n",
        "# Lakukan prediksi\n",
        "predictions = predict_images(model, test_image_paths)\n",
        "\n",
        "# Tampilkan hasil prediksi\n",
        "for path, prediction in zip(test_image_paths, predictions):\n",
        "    print(f\"Gambar: {path} --> Prediksi: {prediction}\")\n"
      ],
      "metadata": {
        "colab": {
          "base_uri": "https://localhost:8080/"
        },
        "id": "tLHUuewHbx_o",
        "outputId": "c4bfeb70-9777-4291-b52f-9ae11dee3526"
      },
      "execution_count": null,
      "outputs": [
        {
          "output_type": "stream",
          "name": "stdout",
          "text": [
            "1/1 [==============================] - 0s 49ms/step\n",
            "1/1 [==============================] - 0s 25ms/step\n",
            "1/1 [==============================] - 0s 25ms/step\n",
            "1/1 [==============================] - 0s 26ms/step\n",
            "1/1 [==============================] - 0s 25ms/step\n",
            "1/1 [==============================] - 0s 25ms/step\n",
            "1/1 [==============================] - 0s 31ms/step\n",
            "1/1 [==============================] - 0s 27ms/step\n",
            "1/1 [==============================] - 0s 27ms/step\n",
            "1/1 [==============================] - 0s 37ms/step\n",
            "1/1 [==============================] - 0s 31ms/step\n",
            "1/1 [==============================] - 0s 26ms/step\n",
            "1/1 [==============================] - 0s 29ms/step\n",
            "Gambar: /content/drive/MyDrive/Project_Bangkit/uang100k.jpg --> Prediksi: 100k\n",
            "Gambar: /content/drive/MyDrive/Project_Bangkit/uang50k.jpg --> Prediksi: 50k\n",
            "Gambar: /content/drive/MyDrive/Project_Bangkit/uang20k.jpg --> Prediksi: 20k\n",
            "Gambar: /content/drive/MyDrive/Project_Bangkit/uang10k.jpg --> Prediksi: 10k\n",
            "Gambar: /content/drive/MyDrive/Project_Bangkit/uang5k.jpg --> Prediksi: 50k\n",
            "Gambar: /content/drive/MyDrive/Project_Bangkit/uang2k.jpg --> Prediksi: 2k\n",
            "Gambar: /content/drive/MyDrive/Project_Bangkit/uang1k.jpg --> Prediksi: 1k\n",
            "Gambar: /content/drive/MyDrive/Project_Bangkit/100wa.jpg --> Prediksi: 50k\n",
            "Gambar: /content/drive/MyDrive/Project_Bangkit/50wa.jpg --> Prediksi: 5k\n",
            "Gambar: /content/drive/MyDrive/Project_Bangkit/20wa.jpg --> Prediksi: 20k\n",
            "Gambar: /content/drive/MyDrive/Project_Bangkit/100wa2.jpg --> Prediksi: 5k\n",
            "Gambar: /content/drive/MyDrive/Project_Bangkit/2wa.jpg --> Prediksi: 10k\n",
            "Gambar: /content/drive/MyDrive/Project_Bangkit/1wa.jpg --> Prediksi: 10k\n"
          ]
        }
      ]
    },
    {
      "cell_type": "markdown",
      "source": [
        "#simpan model"
      ],
      "metadata": {
        "id": "vY5qgWXIm0nB"
      }
    },
    {
      "cell_type": "code",
      "source": [
        "# Simpan model ke format HDF5 (.h5)\n",
        "saved_model_path = \"/content/drive/MyDrive/Proyek_Bangkit1/Uang_Baru/final2_model.h5\"\n",
        "model.save(saved_model_path)\n",
        "\n",
        "print(f\"Model berhasil disimpan ke: {saved_model_path}\")\n"
      ],
      "metadata": {
        "colab": {
          "base_uri": "https://localhost:8080/"
        },
        "id": "Kls2_XTRlMAP",
        "outputId": "09659fe7-c44b-46d0-804a-98e6bd712f0b"
      },
      "execution_count": null,
      "outputs": [
        {
          "output_type": "stream",
          "name": "stderr",
          "text": [
            "/usr/local/lib/python3.10/dist-packages/keras/src/engine/training.py:3103: UserWarning: You are saving your model as an HDF5 file via `model.save()`. This file format is considered legacy. We recommend using instead the native Keras format, e.g. `model.save('my_model.keras')`.\n",
            "  saving_api.save_model(\n"
          ]
        },
        {
          "output_type": "stream",
          "name": "stdout",
          "text": [
            "Model berhasil disimpan ke: /content/drive/MyDrive/Proyek_Bangkit1/Uang_Baru/final2_model.h5\n"
          ]
        }
      ]
    },
    {
      "cell_type": "markdown",
      "source": [
        "#convert tfjs"
      ],
      "metadata": {
        "id": "cOqu-dbOm3Qf"
      }
    },
    {
      "cell_type": "code",
      "source": [
        "!tensorflowjs_converter --input_format=keras \\\n",
        "/content/drive/MyDrive/Proyek_Bangkit1/Uang_Baru/final2_model.h5 \\\n",
        "/content/drive/MyDrive/Proyek_Bangkit1/Uang_Baru/final2_tfjs_model"
      ],
      "metadata": {
        "colab": {
          "base_uri": "https://localhost:8080/"
        },
        "id": "857RkS8nlogs",
        "outputId": "7f5ac345-5d61-4605-8eed-b4e23f53d88a"
      },
      "execution_count": null,
      "outputs": [
        {
          "output_type": "stream",
          "name": "stdout",
          "text": [
            "2024-12-11 18:19:03.514808: E external/local_xla/xla/stream_executor/cuda/cuda_dnn.cc:9261] Unable to register cuDNN factory: Attempting to register factory for plugin cuDNN when one has already been registered\n",
            "2024-12-11 18:19:03.514878: E external/local_xla/xla/stream_executor/cuda/cuda_fft.cc:607] Unable to register cuFFT factory: Attempting to register factory for plugin cuFFT when one has already been registered\n",
            "2024-12-11 18:19:03.517137: E external/local_xla/xla/stream_executor/cuda/cuda_blas.cc:1515] Unable to register cuBLAS factory: Attempting to register factory for plugin cuBLAS when one has already been registered\n",
            "2024-12-11 18:19:05.244171: W tensorflow/compiler/tf2tensorrt/utils/py_utils.cc:38] TF-TRT Warning: Could not find TensorRT\n"
          ]
        }
      ]
    },
    {
      "cell_type": "markdown",
      "source": [
        "#convert tflite"
      ],
      "metadata": {
        "id": "zDJbaaqbm5jW"
      }
    },
    {
      "cell_type": "code",
      "source": [
        "import tensorflow as tf\n",
        "\n",
        "# Path ke model .h5\n",
        "model_path = '/content/drive/MyDrive/Proyek_Bangkit1/Uang_Baru/final2_model.h5'\n",
        "\n",
        "# Muat model .h5\n",
        "model = tf.keras.models.load_model(model_path)\n",
        "\n",
        "# Konversi model ke format TFLite\n",
        "converter = tf.lite.TFLiteConverter.from_keras_model(model)\n",
        "tflite_model = converter.convert()\n",
        "\n",
        "# Simpan model TFLite ke path yang diinginkan\n",
        "tflite_model_path = '/content/drive/MyDrive/Proyek_Bangkit1/Uang_Baru/final2_model.tflite'\n",
        "with open(tflite_model_path, 'wb') as f:\n",
        "    f.write(tflite_model)\n",
        "\n",
        "print(f\"Model TFLite telah disimpan di: {tflite_model_path}\")\n"
      ],
      "metadata": {
        "colab": {
          "base_uri": "https://localhost:8080/"
        },
        "id": "7FJc0X5umIyR",
        "outputId": "88bf3af2-f021-4544-f5ec-71ba76a93534"
      },
      "execution_count": null,
      "outputs": [
        {
          "output_type": "stream",
          "name": "stderr",
          "text": [
            "WARNING:absl:`mobilenetv2_1.00_224_input` is not a valid tf.function parameter name. Sanitizing to `mobilenetv2_1_00_224_input`.\n",
            "WARNING:absl:`mobilenetv2_1.00_224_input` is not a valid tf.function parameter name. Sanitizing to `mobilenetv2_1_00_224_input`.\n",
            "WARNING:absl:`mobilenetv2_1.00_224_input` is not a valid tf.function parameter name. Sanitizing to `mobilenetv2_1_00_224_input`.\n"
          ]
        },
        {
          "output_type": "stream",
          "name": "stdout",
          "text": [
            "Model TFLite telah disimpan di: /content/drive/MyDrive/Proyek_Bangkit1/Uang_Baru/final2_model.tflite\n"
          ]
        }
      ]
    },
    {
      "cell_type": "code",
      "source": [
        "import tensorflow as tf\n",
        "\n",
        "# Muat model TFLite\n",
        "tflite_model_path = '/content/drive/MyDrive/Proyek_Bangkit1/Uang_Baru/final2_model.tflite'\n",
        "interpreter = tf.lite.Interpreter(model_path=tflite_model_path)\n",
        "\n",
        "# Alokasikan tensor input dan output\n",
        "interpreter.allocate_tensors()\n",
        "\n",
        "# Dapatkan informasi tensor input dan output\n",
        "input_details = interpreter.get_input_details()\n",
        "output_details = interpreter.get_output_details()\n",
        "\n",
        "print(\"Input details:\", input_details)\n",
        "print(\"Output details:\", output_details)\n",
        "\n",
        "# Lakukan prediksi menggunakan data contoh (contoh input gambar)\n",
        "import numpy as np\n",
        "input_data = np.random.rand(1, 224, 224, 3).astype(np.float32)  # Ganti dengan input yang sesuai\n",
        "interpreter.set_tensor(input_details[0]['index'], input_data)\n",
        "\n",
        "# Jalankan model\n",
        "interpreter.invoke()\n",
        "\n",
        "# Ambil hasil prediksi\n",
        "output_data = interpreter.get_tensor(output_details[0]['index'])\n",
        "print(\"Prediksi:\", output_data)\n"
      ],
      "metadata": {
        "colab": {
          "base_uri": "https://localhost:8080/"
        },
        "id": "4J6hZAgJnhlW",
        "outputId": "1e5f402e-7c41-4fe2-952b-8f680e5c6c76"
      },
      "execution_count": null,
      "outputs": [
        {
          "output_type": "stream",
          "name": "stdout",
          "text": [
            "Input details: [{'name': 'serving_default_mobilenetv2_1.00_224_input:0', 'index': 0, 'shape': array([  1, 224, 224,   3], dtype=int32), 'shape_signature': array([ -1, 224, 224,   3], dtype=int32), 'dtype': <class 'numpy.float32'>, 'quantization': (0.0, 0), 'quantization_parameters': {'scales': array([], dtype=float32), 'zero_points': array([], dtype=int32), 'quantized_dimension': 0}, 'sparsity_parameters': {}}]\n",
            "Output details: [{'name': 'StatefulPartitionedCall:0', 'index': 180, 'shape': array([1, 7], dtype=int32), 'shape_signature': array([-1,  7], dtype=int32), 'dtype': <class 'numpy.float32'>, 'quantization': (0.0, 0), 'quantization_parameters': {'scales': array([], dtype=float32), 'zero_points': array([], dtype=int32), 'quantized_dimension': 0}, 'sparsity_parameters': {}}]\n",
            "Prediksi: [[9.8838878e-05 5.8879209e-08 2.8518539e-08 8.4894801e-08 9.9989676e-01\n",
            "  4.1902913e-06 1.4103954e-07]]\n"
          ]
        }
      ]
    },
    {
      "cell_type": "code",
      "source": [
        "# Menampilkan hasil prediksi dalam format yang lebih mudah dimengerti\n",
        "predicted_class = np.argmax(output_data)\n",
        "print(f\"Prediksi kelas: {predicted_class}\")\n"
      ],
      "metadata": {
        "colab": {
          "base_uri": "https://localhost:8080/"
        },
        "id": "QrUaqMpBnxqA",
        "outputId": "8f939aac-c5a8-47a9-bff9-fb619965f085"
      },
      "execution_count": null,
      "outputs": [
        {
          "output_type": "stream",
          "name": "stdout",
          "text": [
            "Prediksi kelas: 4\n"
          ]
        }
      ]
    },
    {
      "cell_type": "code",
      "source": [
        "# Mapping kelas dengan label sesuai dengan indeks yang diberikan\n",
        "class_mapping = {0: '1k', 1: '2k', 2: '5k', 3: '10k', 4: '20k', 5: '50k', 6: '100k'}\n",
        "\n",
        "# Ambil kelas dengan probabilitas tertinggi dari output prediksi\n",
        "predicted_class = np.argmax(output_data)\n",
        "\n",
        "# Tampilkan nama kelas dan probabilitasnya\n",
        "predicted_label = class_mapping[predicted_class]\n",
        "predicted_probability = output_data[0][predicted_class]\n",
        "\n",
        "print(f\"Prediksi kelas: {predicted_label} dengan probabilitas {predicted_probability:.4f}\")\n"
      ],
      "metadata": {
        "colab": {
          "base_uri": "https://localhost:8080/"
        },
        "id": "fY8bEC7loFa3",
        "outputId": "226e47fb-7481-4756-f4df-2452a6631e65"
      },
      "execution_count": null,
      "outputs": [
        {
          "output_type": "stream",
          "name": "stdout",
          "text": [
            "Prediksi kelas: 20k dengan probabilitas 0.9999\n"
          ]
        }
      ]
    },
    {
      "cell_type": "code",
      "source": [
        "import tensorflow as tf\n",
        "from tensorflow.keras.preprocessing.image import load_img, img_to_array\n",
        "import numpy as np\n",
        "\n",
        "# Load model\n",
        "model_path = '/content/drive/MyDrive/Proyek_Bangkit1/Uang_Baru/final2_model.h5'\n",
        "model = tf.keras.models.load_model(model_path)\n",
        "\n",
        "# Mapping kelas dengan label sesuai indeks\n",
        "class_mapping = {0: '1k', 1: '2k', 2: '5k', 3: '10k', 4: '20k', 5: '50k', 6: '100k'}\n",
        "\n",
        "# Fungsi untuk memuat dan memproses gambar\n",
        "def prepare_image(image_path, target_size):\n",
        "    img = load_img(image_path, target_size=target_size)  # Memuat gambar dengan ukuran tertentu\n",
        "    img_array = img_to_array(img)  # Mengubah gambar ke array\n",
        "    img_array = np.expand_dims(img_array, axis=0)  # Menambahkan batch dimension\n",
        "    img_array = img_array / 255.0  # Normalisasi (opsional, tergantung preprocessing saat training)\n",
        "    return img_array\n",
        "\n",
        "# Path ke gambar yang akan diuji\n",
        "test_image_paths = [\n",
        "    '/content/drive/MyDrive/Project_Bangkit/uang1.jpg',\n",
        "    '/content/drive/MyDrive/Project_Bangkit/uang50k.jpg',\n",
        "    '/content/drive/MyDrive/Project_Bangkit/uang20k.jpg',\n",
        "    '/content/drive/MyDrive/Project_Bangkit/uang10k.jpg',\n",
        "    '/content/drive/MyDrive/Project_Bangkit/uang5k.jpg',\n",
        "    '/content/drive/MyDrive/Project_Bangkit/uang2k.jpg',\n",
        "    '/content/drive/MyDrive/Project_Bangkit/uang1k.jpg'\n",
        "]\n",
        "\n",
        "# Siapkan ukuran input model\n",
        "target_size = (224, 224)  # Sesuaikan dengan ukuran input model Anda\n",
        "\n",
        "# Lakukan prediksi untuk setiap gambar\n",
        "for image_path in test_image_paths:\n",
        "    # Siapkan gambar\n",
        "    test_image = prepare_image(image_path, target_size)\n",
        "\n",
        "    # Prediksi\n",
        "    predictions = model.predict(test_image)\n",
        "    predicted_class = np.argmax(predictions, axis=-1)[0]  # Ambil indeks dengan probabilitas tertinggi\n",
        "\n",
        "    # Ambil label berdasarkan mapping\n",
        "    label = class_mapping[predicted_class]\n",
        "\n",
        "    # Tampilkan hasil dengan kelas\n",
        "    print(f\"Gambar: {image_path}\")\n",
        "    print(f\"Prediksi: {label} (Kelas {predicted_class})\")\n",
        "    print(\"-\" * 40)\n"
      ],
      "metadata": {
        "id": "v5hl1uLzoHS9",
        "colab": {
          "base_uri": "https://localhost:8080/"
        },
        "outputId": "fd5c34d3-4747-4fbc-ee6a-bc10e5f50154"
      },
      "execution_count": null,
      "outputs": [
        {
          "output_type": "stream",
          "name": "stdout",
          "text": [
            "1/1 [==============================] - 1s 1s/step\n",
            "Gambar: /content/drive/MyDrive/Project_Bangkit/uang1.jpg\n",
            "Prediksi: 50k (Kelas 5)\n",
            "----------------------------------------\n",
            "1/1 [==============================] - 0s 34ms/step\n",
            "Gambar: /content/drive/MyDrive/Project_Bangkit/uang50k.jpg\n",
            "Prediksi: 50k (Kelas 5)\n",
            "----------------------------------------\n",
            "1/1 [==============================] - 0s 43ms/step\n",
            "Gambar: /content/drive/MyDrive/Project_Bangkit/uang20k.jpg\n",
            "Prediksi: 20k (Kelas 4)\n",
            "----------------------------------------\n",
            "1/1 [==============================] - 0s 51ms/step\n",
            "Gambar: /content/drive/MyDrive/Project_Bangkit/uang10k.jpg\n",
            "Prediksi: 10k (Kelas 3)\n",
            "----------------------------------------\n",
            "1/1 [==============================] - 0s 46ms/step\n",
            "Gambar: /content/drive/MyDrive/Project_Bangkit/uang5k.jpg\n",
            "Prediksi: 50k (Kelas 5)\n",
            "----------------------------------------\n",
            "1/1 [==============================] - 0s 46ms/step\n",
            "Gambar: /content/drive/MyDrive/Project_Bangkit/uang2k.jpg\n",
            "Prediksi: 2k (Kelas 1)\n",
            "----------------------------------------\n",
            "1/1 [==============================] - 0s 32ms/step\n",
            "Gambar: /content/drive/MyDrive/Project_Bangkit/uang1k.jpg\n",
            "Prediksi: 1k (Kelas 0)\n",
            "----------------------------------------\n"
          ]
        }
      ]
    }
  ]
}